{
 "cells": [
  {
   "cell_type": "markdown",
   "metadata": {},
   "source": [
    "sample "
   ]
  },
  {
   "cell_type": "code",
   "execution_count": null,
   "metadata": {},
   "outputs": [],
   "source": [
    "def func():\n",
    "    print(\"im in git\")"
   ]
  },
  {
   "cell_type": "markdown",
   "metadata": {},
   "source": [
    "Write a Python program that asks the user to enter their name and age, and then prints out a message that says \"Hello, [name]! You are [age] years old.\""
   ]
  },
  {
   "cell_type": "code",
   "execution_count": 3,
   "metadata": {},
   "outputs": [
    {
     "name": "stdout",
     "output_type": "stream",
     "text": [
      "hello jeeva\n",
      "you are 18 years old\n"
     ]
    }
   ],
   "source": [
    "name = input(\"enter your name\",)\n",
    "age = int(input(\"enter your age\",))\n",
    "print(\"hello\",name)\n",
    "print(\"you are\",age,\"years old\")"
   ]
  },
  {
   "cell_type": "markdown",
   "metadata": {},
   "source": [
    "Write a Python program that calculates the area of a rectangle. The program should ask the user to enter the length and width of the rectangle, and then print out the area."
   ]
  },
  {
   "cell_type": "code",
   "execution_count": 4,
   "metadata": {},
   "outputs": [
    {
     "name": "stdout",
     "output_type": "stream",
     "text": [
      "the area of the rectangle 3500\n"
     ]
    }
   ],
   "source": [
    "length = int(input(\"enter the length of the rectanglr\",))\n",
    "width = int(input(\"enter the width of the rectanglr\",))\n",
    "area = (length*width)\n",
    "print(\"the area of the rectangle\",area)"
   ]
  },
  {
   "cell_type": "markdown",
   "metadata": {},
   "source": [
    " Write a Python program that asks the user to enter a string, and then prints out the length of the string."
   ]
  },
  {
   "cell_type": "code",
   "execution_count": 6,
   "metadata": {},
   "outputs": [
    {
     "name": "stdout",
     "output_type": "stream",
     "text": [
      "the length of the string 11\n"
     ]
    }
   ],
   "source": [
    "str = input(\"enter the string\")\n",
    "length_str = len(str)\n",
    "print(\"the length of the string\",length_str)\n"
   ]
  },
  {
   "cell_type": "markdown",
   "metadata": {},
   "source": [
    "Write a Python program that asks the user to enter two numbers, and then prints out whether the first number is greater than, less than, or equal to the second number."
   ]
  },
  {
   "cell_type": "code",
   "execution_count": 9,
   "metadata": {},
   "outputs": [
    {
     "name": "stdout",
     "output_type": "stream",
     "text": [
      "the first number is smaller than second number\n"
     ]
    }
   ],
   "source": [
    "num1 = int(input(\"enter the first number\",))\n",
    "num2 = int(input(\"enter the second number\",))\n",
    "\n",
    "if (num1 > num2):\n",
    "    print(\"the first number is greater\")\n",
    "elif (num1 == num2):\n",
    "    print(\"both the first and second number is equal\")\n",
    "elif (num1 < num2):\n",
    "    print(\"the first number is smaller than second number\")"
   ]
  },
  {
   "cell_type": "markdown",
   "metadata": {},
   "source": [
    "Write a Python program that asks the user to enter a string, and then prints out the string in reverse order."
   ]
  },
  {
   "cell_type": "code",
   "execution_count": 10,
   "metadata": {},
   "outputs": [
    {
     "name": "stdout",
     "output_type": "stream",
     "text": [
      "ilhok tariv si eman eht\n"
     ]
    }
   ],
   "source": [
    "original_string = input(\"enter a string\")\n",
    "reversed_string = \"\"\n",
    "for char in original_string:\n",
    "    reversed_string = char + reversed_string\n",
    "\n",
    "print(reversed_string)"
   ]
  },
  {
   "cell_type": "markdown",
   "metadata": {},
   "source": [
    "Write a Python program that asks the user to enter a number, and then prints out whether the number is even or odd."
   ]
  },
  {
   "cell_type": "code",
   "execution_count": 13,
   "metadata": {},
   "outputs": [
    {
     "name": "stdout",
     "output_type": "stream",
     "text": [
      "the number is even\n"
     ]
    }
   ],
   "source": [
    "num1 = int(input(\"enter a number\"))\n",
    "\n",
    "if (num1 % 2 == 0):\n",
    "    print(\"the number is even\")\n",
    "else:\n",
    "    print(\"the number is odd\")"
   ]
  },
  {
   "cell_type": "markdown",
   "metadata": {},
   "source": [
    "Write a Python program that asks the user to enter a temperature in Fahrenheit, and then converts it to Celsius. The formula for converting Fahrenheit to Celsius is (F - 32) * 5/9."
   ]
  },
  {
   "cell_type": "code",
   "execution_count": 15,
   "metadata": {},
   "outputs": [
    {
     "name": "stdout",
     "output_type": "stream",
     "text": [
      "the value in celsius 51.66666666666667\n"
     ]
    }
   ],
   "source": [
    "fahrenheit = int(input(\"enter a temperature\",))\n",
    "\n",
    "celsius = ((fahrenheit - 32)*(5/9))\n",
    "\n",
    "print(\"the value in celsius\",celsius)"
   ]
  },
  {
   "cell_type": "markdown",
   "metadata": {},
   "source": [
    " Write a Python program that calculates the average of three numbers. The program should ask the user to enter three numbers, and then print out their average."
   ]
  },
  {
   "cell_type": "code",
   "execution_count": 16,
   "metadata": {},
   "outputs": [
    {
     "name": "stdout",
     "output_type": "stream",
     "text": [
      "The average of the three numbers is 13.0\n"
     ]
    }
   ],
   "source": [
    "num1 = float(input(\"Enter the first number: \"))\n",
    "num2 = float(input(\"Enter the second number: \"))\n",
    "num3 = float(input(\"Enter the third number: \"))\n",
    "\n",
    "average = (num1 + num2 + num3) / 3\n",
    "\n",
    "print(\"The average of the three numbers is\", average)"
   ]
  },
  {
   "cell_type": "markdown",
   "metadata": {},
   "source": [
    " Write a Python program that asks the user to enter a string, and then checks if the string contains the letter \"e\". If the string contains \"e\", print out a message that says \"The string contains the letter e.\" If the string does not contain \"e\", print out a message that says \"The string does not contain the letter e.\""
   ]
  },
  {
   "cell_type": "code",
   "execution_count": 21,
   "metadata": {},
   "outputs": [
    {
     "name": "stdout",
     "output_type": "stream",
     "text": [
      "The string contains the letter e.\n"
     ]
    }
   ],
   "source": [
    "str = input(\"enter a string\")\n",
    "\n",
    "if \"e\" in str:\n",
    "    print(\"The string contains the letter e.\")\n",
    "else:\n",
    "    print(\"The string does not contain the letter e.\")"
   ]
  },
  {
   "cell_type": "markdown",
   "metadata": {},
   "source": [
    "Write a Python program that asks the user to enter a password. If the password contains less than 8 characters, print out a message that says \"Password too short.\" If the password contains 8 or more characters, print out a message that says \"Password accepted.\""
   ]
  },
  {
   "cell_type": "code",
   "execution_count": 23,
   "metadata": {},
   "outputs": [
    {
     "name": "stdout",
     "output_type": "stream",
     "text": [
      "Password too short.\n"
     ]
    }
   ],
   "source": [
    "password = input(\"Enter your password: \")\n",
    "\n",
    "if len(password) < 8:\n",
    "    print(\"Password too short.\")\n",
    "else:\n",
    "    print(\"Password accepted.\")"
   ]
  },
  {
   "cell_type": "markdown",
   "metadata": {},
   "source": [
    " Write a Python program that asks the user to enter a number between 1 and 10. If the user enters a number outside of this range, print out a message that says \"Invalid input.\" If the user enters a number within this range, print out a message that says \"Valid input.\" Write a Python program that asks the user to enter a sentence, and then counts the number of words in the sentence."
   ]
  },
  {
   "cell_type": "code",
   "execution_count": 24,
   "metadata": {},
   "outputs": [
    {
     "name": "stdout",
     "output_type": "stream",
     "text": [
      "Valid input.\n"
     ]
    }
   ],
   "source": [
    "def check_number():\n",
    "  while True:\n",
    "    try:\n",
    "      number = int(input(\"Enter a number between 1 and 10: \"))\n",
    "      if 1 <= number <= 10:\n",
    "        print(\"Valid input.\")\n",
    "        return\n",
    "      else:\n",
    "        print(\"Invalid input. Please enter a number between 1 and 10.\")\n",
    "    except ValueError:\n",
    "      print(\"Invalid input. Please enter a number.\")\n",
    "\n",
    "check_number()"
   ]
  }
 ],
 "metadata": {
  "kernelspec": {
   "display_name": "Python 3",
   "language": "python",
   "name": "python3"
  },
  "language_info": {
   "codemirror_mode": {
    "name": "ipython",
    "version": 3
   },
   "file_extension": ".py",
   "mimetype": "text/x-python",
   "name": "python",
   "nbconvert_exporter": "python",
   "pygments_lexer": "ipython3",
   "version": "3.12.1"
  }
 },
 "nbformat": 4,
 "nbformat_minor": 2
}
